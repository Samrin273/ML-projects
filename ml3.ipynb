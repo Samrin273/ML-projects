{
 "cells": [
  {
   "cell_type": "code",
   "execution_count": 1,
   "id": "345edbfc",
   "metadata": {},
   "outputs": [
    {
     "name": "stdout",
     "output_type": "stream",
     "text": [
      "Data after handling missing values:\n",
      "    Age  Gender   Income\n",
      "0  25.0  Female  50000.0\n",
      "1  30.0    Male  60000.0\n",
      "2  28.0    Male  45000.0\n",
      "3  29.5  Female  70000.0\n",
      "4  35.0    Male  56250.0\n",
      "\n",
      "Data after categorical encoding:\n",
      "    Age   Income  Gender_Male\n",
      "0  25.0  50000.0          0.0\n",
      "1  30.0  60000.0          1.0\n",
      "2  28.0  45000.0          1.0\n",
      "3  29.5  70000.0          0.0\n",
      "4  35.0  56250.0          1.0\n",
      "\n",
      "Data after feature scaling:\n",
      "   Scaled Age  Scaled Income\n",
      "0   -1.382164      -0.727778\n",
      "1    0.153574       0.436667\n",
      "2   -0.460721      -1.310001\n",
      "3    0.000000       1.601112\n",
      "4    1.689312       0.000000\n"
     ]
    },
    {
     "name": "stderr",
     "output_type": "stream",
     "text": [
      "C:\\Users\\shaik\\anaconda3\\Lib\\site-packages\\sklearn\\preprocessing\\_encoders.py:972: FutureWarning: `sparse` was renamed to `sparse_output` in version 1.2 and will be removed in 1.4. `sparse_output` is ignored unless you leave `sparse` to its default value.\n",
      "  warnings.warn(\n"
     ]
    }
   ],
   "source": [
    "import pandas as pd\n",
    "from sklearn.impute import SimpleImputer\n",
    "from sklearn.preprocessing import OneHotEncoder, StandardScaler\n",
    "\n",
    "\n",
    "data = {\n",
    "    'Age': [25, 30, 28, None, 35],  # Missing value in Age\n",
    "    'Gender': ['Female', 'Male', 'Male', 'Female', 'Male'],\n",
    "    'Income': [50000, 60000, 45000, 70000, None]  # Missing value in Income\n",
    "}\n",
    "\n",
    "df = pd.DataFrame(data)\n",
    "\n",
    "# Handling Missing Data (Replacing with Mean)\n",
    "imputer = SimpleImputer(strategy='mean')\n",
    "df[['Age', 'Income']] = imputer.fit_transform(df[['Age', 'Income']])\n",
    "\n",
    "print(\"Data after handling missing values:\")\n",
    "print(df)\n",
    "\n",
    "# Encoding Categorical Variables\n",
    "encoder = OneHotEncoder(drop='first', sparse=False)\n",
    "encoded_data = encoder.fit_transform(df[['Gender']])\n",
    "\n",
    "# Convert encoded data to DataFrame\n",
    "encoded_df = pd.DataFrame(encoded_data, columns=encoder.get_feature_names_out(['Gender']))\n",
    "\n",
    "# Merging with Original Data\n",
    "df = df.drop('Gender', axis=1)\n",
    "df = pd.concat([df, encoded_df], axis=1)\n",
    "\n",
    "print(\"\\nData after categorical encoding:\")\n",
    "print(df)\n",
    "\n",
    "# Feature Scaling\n",
    "scaler = StandardScaler()\n",
    "scaled_data = scaler.fit_transform(df[['Age', 'Income']])\n",
    "\n",
    "# Convert scaled data to DataFrame\n",
    "scaled_df = pd.DataFrame(scaled_data, columns=['Scaled Age', 'Scaled Income'])\n",
    "\n",
    "print(\"\\nData after feature scaling:\")\n",
    "print(scaled_df)"
   ]
  },
  {
   "cell_type": "code",
   "execution_count": null,
   "id": "b1cbd258",
   "metadata": {},
   "outputs": [],
   "source": []
  }
 ],
 "metadata": {
  "kernelspec": {
   "display_name": "Python 3 (ipykernel)",
   "language": "python",
   "name": "python3"
  },
  "language_info": {
   "codemirror_mode": {
    "name": "ipython",
    "version": 3
   },
   "file_extension": ".py",
   "mimetype": "text/x-python",
   "name": "python",
   "nbconvert_exporter": "python",
   "pygments_lexer": "ipython3",
   "version": "3.11.5"
  }
 },
 "nbformat": 4,
 "nbformat_minor": 5
}
