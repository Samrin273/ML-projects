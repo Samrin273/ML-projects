{
 "cells": [
  {
   "cell_type": "code",
   "execution_count": 5,
   "id": "044b0c86",
   "metadata": {},
   "outputs": [
    {
     "name": "stdout",
     "output_type": "stream",
     "text": [
      "CSV File Data:\n",
      "      Name  Age  Score\n",
      "0   Samrin   20     85\n",
      "1    Amith   30     78\n",
      "2    Rekha   20     88\n",
      "3    Pooja   21     89\n",
      "4  Trupthi   20     88\n",
      "n\\Excel File Data:\n",
      "     Name Course  Sem\n",
      "0  Rakesh    BCA    1\n",
      "1   Rekha   BCOM    2\n",
      "2   Surja    BBA    3\n",
      "3  Sushma    BBA    1\n",
      "4   Amith    BCA    2\n",
      "5  Akshay    BBA    4\n",
      "\n",
      "Data Description:\n",
      "CSV Data Description:\n",
      "            Age      Score\n",
      "count   5.00000   5.000000\n",
      "mean   22.20000  85.600000\n",
      "std     4.38178   4.505552\n",
      "min    20.00000  78.000000\n",
      "25%    20.00000  85.000000\n",
      "50%    20.00000  88.000000\n",
      "75%    21.00000  88.000000\n",
      "max    30.00000  89.000000\n",
      "\n",
      "Excel Data Description:\n",
      "            Sem\n",
      "count  6.000000\n",
      "mean   2.166667\n",
      "std    1.169045\n",
      "min    1.000000\n",
      "25%    1.250000\n",
      "50%    2.000000\n",
      "75%    2.750000\n",
      "max    4.000000\n",
      "\n",
      "Data Types in CSV File:\n",
      "Name     object\n",
      "Age       int64\n",
      "Score     int64\n",
      "dtype: object\n",
      "\n",
      "Data Types in Excel File:\n",
      "Name      object\n",
      "Course    object\n",
      "Sem        int64\n",
      "dtype: object\n"
     ]
    }
   ],
   "source": [
    "import pandas as pd\n",
    "csv_file_path = 'C:\\\\samrinshaikh\\\\sample_data.csv'\n",
    "excel_file_path = 'C:\\\\samrinshaikh\\\\sample_data.xlsx'\n",
    "data_csv = pd.read_csv(csv_file_path)\n",
    "print(\"CSV File Data:\")\n",
    "print(data_csv)\n",
    "data_excel = pd.read_excel(excel_file_path)\n",
    "print(\"n\\Excel File Data:\")\n",
    "print(data_excel)\n",
    "print(\"\\nData Description:\")\n",
    "print(\"CSV Data Description:\")\n",
    "print (data_csv.describe())\n",
    "print(\"\\nExcel Data Description:\")\n",
    "print(data_excel.describe())\n",
    "print(\"\\nData Types in CSV File:\")\n",
    "print(data_csv.dtypes)\n",
    "print(\"\\nData Types in Excel File:\")\n",
    "print(data_excel.dtypes)\n",
    "\n",
    "\n"
   ]
  },
  {
   "cell_type": "code",
   "execution_count": null,
   "id": "6b494e41",
   "metadata": {},
   "outputs": [],
   "source": []
  }
 ],
 "metadata": {
  "kernelspec": {
   "display_name": "Python 3 (ipykernel)",
   "language": "python",
   "name": "python3"
  },
  "language_info": {
   "codemirror_mode": {
    "name": "ipython",
    "version": 3
   },
   "file_extension": ".py",
   "mimetype": "text/x-python",
   "name": "python",
   "nbconvert_exporter": "python",
   "pygments_lexer": "ipython3",
   "version": "3.11.5"
  }
 },
 "nbformat": 4,
 "nbformat_minor": 5
}
