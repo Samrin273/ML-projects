{
 "cells": [
  {
   "cell_type": "code",
   "execution_count": 2,
   "id": "1849b22b",
   "metadata": {},
   "outputs": [
    {
     "name": "stdout",
     "output_type": "stream",
     "text": [
      "CSV File Data:\n",
      "     Name  Age  Score\n",
      "0  samrin   20     85\n",
      "1   pooja   21     80\n",
      "2  Nithin   22     90\n",
      "\n",
      "Excel File Data:\n",
      "     Name Course  Sem\n",
      "0  Rajesh    BCA    1\n",
      "1  Ramesh    BCA    2\n",
      "2   Rekha   BCOM    1\n",
      "3   Swati   BCOM    3\n",
      "4   Pooja    BBA    2\n",
      "5   Raghu    BBA    4\n",
      "\n",
      "Data Descriptions:\n",
      "CSV Data Description:\n",
      "        Age  Score\n",
      "count   3.0    3.0\n",
      "mean   21.0   85.0\n",
      "std     1.0    5.0\n",
      "min    20.0   80.0\n",
      "25%    20.5   82.5\n",
      "50%    21.0   85.0\n",
      "75%    21.5   87.5\n",
      "max    22.0   90.0\n",
      "\n",
      "Excel Data Description:\n",
      "            Sem\n",
      "count  6.000000\n",
      "mean   2.166667\n",
      "std    1.169045\n",
      "min    1.000000\n",
      "25%    1.250000\n",
      "50%    2.000000\n",
      "75%    2.750000\n",
      "max    4.000000\n",
      "\n",
      "Data Types in CSV File:\n",
      "Name     object\n",
      "Age       int64\n",
      "Score     int64\n",
      "dtype: object\n",
      "\n",
      "Data Types in Excel File:\n",
      "Name      object\n",
      "Course    object\n",
      "Sem        int64\n",
      "dtype: object\n"
     ]
    }
   ],
   "source": [
    "import pandas as pd\n",
    "\n",
    "# Define the file paths\n",
    "csv_file_path = \"C:\\ML_projects directory\\sample_data.csv\"\n",
    "excel_file_path = \"C:\\ML_projects directory\\sample_data.xlsv.xlsx\"\n",
    "\n",
    "# Load the CSV file\n",
    "data_csv = pd.read_csv(csv_file_path)\n",
    "print(\"CSV File Data:\")\n",
    "print(data_csv)\n",
    "\n",
    "# Load the Excel file\n",
    "data_excel = pd.read_excel(excel_file_path)\n",
    "print(\"\\nExcel File Data:\")\n",
    "print(data_excel)\n",
    "\n",
    "# Basic Data Exploration\n",
    "print(\"\\nData Descriptions:\")\n",
    "print(\"CSV Data Description:\")\n",
    "print(data_csv.describe())\n",
    "\n",
    "print(\"\\nExcel Data Description:\")\n",
    "print(data_excel.describe())\n",
    "# Displaying data types\n",
    "print(\"\\nData Types in CSV File:\")\n",
    "print(data_csv.dtypes)\n",
    "\n",
    "print(\"\\nData Types in Excel File:\")\n",
    "print(data_excel.dtypes)\n"
   ]
  },
  {
   "cell_type": "code",
   "execution_count": null,
   "id": "a9243b06",
   "metadata": {},
   "outputs": [],
   "source": []
  }
 ],
 "metadata": {
  "kernelspec": {
   "display_name": "Python 3 (ipykernel)",
   "language": "python",
   "name": "python3"
  },
  "language_info": {
   "codemirror_mode": {
    "name": "ipython",
    "version": 3
   },
   "file_extension": ".py",
   "mimetype": "text/x-python",
   "name": "python",
   "nbconvert_exporter": "python",
   "pygments_lexer": "ipython3",
   "version": "3.11.5"
  }
 },
 "nbformat": 4,
 "nbformat_minor": 5
}
