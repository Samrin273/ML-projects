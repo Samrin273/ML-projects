{
 "cells": [
  {
   "cell_type": "code",
   "execution_count": 1,
   "id": "222bc753",
   "metadata": {},
   "outputs": [
    {
     "name": "stdout",
     "output_type": "stream",
     "text": [
      "Coefficients: [  103.27868852 52524.59016393]\n",
      "Intercept: 95344.26229508198\n",
      "Predicted house price for [1600    3]: $418,163.93\n"
     ]
    }
   ],
   "source": [
    "import numpy as np\n",
    "from sklearn.linear_model import LinearRegression\n",
    "\n",
    "# Dummy house price prediction data: features (house size, number of bedrooms) and target variable (house price)\n",
    "X = np.array([[1000, 2], [1500, 3], [1200, 2], [1800, 4], [900, 2], [2000, 3]])\n",
    "y = np.array([300000, 400000, 350000, 500000, 280000, 450000])\n",
    "\n",
    "# Initialize the Linear Regression model\n",
    "model = LinearRegression()\n",
    "\n",
    "# Train the model on the dataset\n",
    "model.fit(X, y)\n",
    "\n",
    "# Get the model's predictions on the training data\n",
    "y_pred = model.predict(X)\n",
    "\n",
    "# Print model coefficients\n",
    "print(\"Coefficients:\", model.coef_)\n",
    "print(\"Intercept:\", model.intercept_)\n",
    "\n",
    "# Predict the price of a new house\n",
    "new_house = np.array([[1600, 3]])  # Example: House with 1600 sq. ft. and 3 bedrooms\n",
    "predicted_price = model.predict(new_house)\n",
    "\n",
    "print(f\"Predicted house price for {new_house[0]}: ${predicted_price[0]:,.2f}\")\n"
   ]
  },
  {
   "cell_type": "code",
   "execution_count": null,
   "id": "b330c158",
   "metadata": {},
   "outputs": [],
   "source": []
  }
 ],
 "metadata": {
  "kernelspec": {
   "display_name": "Python 3 (ipykernel)",
   "language": "python",
   "name": "python3"
  },
  "language_info": {
   "codemirror_mode": {
    "name": "ipython",
    "version": 3
   },
   "file_extension": ".py",
   "mimetype": "text/x-python",
   "name": "python",
   "nbconvert_exporter": "python",
   "pygments_lexer": "ipython3",
   "version": "3.11.5"
  }
 },
 "nbformat": 4,
 "nbformat_minor": 5
}
